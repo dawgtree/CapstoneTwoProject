{
 "cells": [
  {
   "cell_type": "markdown",
   "metadata": {},
   "source": [
    "The purpose of this section of the capstone project is to model the car data that has been prepared and determine which model would perform best as a predictor of car price.  To recap, the following variables have all been show to be statistically significant in affecting car price, and so they will all be taken into account in the models:\n",
    "\n",
    "Year <br>\n",
    "Manufacturer <br>\n",
    "Number of Cylinders <br>\n",
    "Odometer <br>\n",
    "Transmission <br>\n",
    "Drive <br>\n",
    "Paint Color <br>\n",
    "State\n",
    "\n",
    "In the previous part of the project, the data had already been put into training (%70) and testing sets(%30), and dummy variables have been assigned to all of the categorical variables, so all that is left to do is model the data.  The three models that I am using are Random Forest, AdaBoost, and Gradient Boosting.  They are all three ensemble methods that all use trees to split data, which is useful since I did not scale the data.\n",
    "\n",
    "Since this is a regression model, I am ranking the performance of the data on three key factors, root mean squared error, mean absolute error and adjusted r squared.  These are commonly accepted as among the most important factors in determining model effectiveness for regression.  I am also taking into account the time it takes to fit each model, which could be a big factor if someone wants quick results."
   ]
  },
  {
   "cell_type": "markdown",
   "metadata": {},
   "source": [
    "First I will import any models that I might use.  I will likely not use all of them."
   ]
  },
  {
   "cell_type": "code",
   "execution_count": 66,
   "metadata": {},
   "outputs": [],
   "source": [
    "import pandas as pd\n",
    "import numpy as np\n",
    "import os\n",
    "import pickle\n",
    "import matplotlib.pyplot as plt\n",
    "import seaborn as sns\n",
    "from sklearn.model_selection import GridSearchCV\n",
    "from sklearn.ensemble import RandomForestRegressor,AdaBoostRegressor,GradientBoostingRegressor\n",
    "from sklearn.metrics import mean_squared_error, r2_score, mean_absolute_error\n",
    "from math import sqrt\n",
    "import statsmodels.api as sm\n",
    "import time"
   ]
  },
  {
   "cell_type": "markdown",
   "metadata": {},
   "source": [
    "Now to import the data and look at it to make sure it is ready to model."
   ]
  },
  {
   "cell_type": "code",
   "execution_count": 2,
   "metadata": {},
   "outputs": [
    {
     "data": {
      "text/html": [
       "<div>\n",
       "<style scoped>\n",
       "    .dataframe tbody tr th:only-of-type {\n",
       "        vertical-align: middle;\n",
       "    }\n",
       "\n",
       "    .dataframe tbody tr th {\n",
       "        vertical-align: top;\n",
       "    }\n",
       "\n",
       "    .dataframe thead th {\n",
       "        text-align: right;\n",
       "    }\n",
       "</style>\n",
       "<table border=\"1\" class=\"dataframe\">\n",
       "  <thead>\n",
       "    <tr style=\"text-align: right;\">\n",
       "      <th></th>\n",
       "      <th>id</th>\n",
       "      <th>price</th>\n",
       "      <th>year</th>\n",
       "      <th>manufacturer</th>\n",
       "      <th>model</th>\n",
       "      <th>cylinders</th>\n",
       "      <th>odometer</th>\n",
       "      <th>transmission</th>\n",
       "      <th>drive</th>\n",
       "      <th>paint_color</th>\n",
       "      <th>state</th>\n",
       "    </tr>\n",
       "  </thead>\n",
       "  <tbody>\n",
       "    <tr>\n",
       "      <th>1</th>\n",
       "      <td>7184773187</td>\n",
       "      <td>8750</td>\n",
       "      <td>2013.0</td>\n",
       "      <td>hyundai</td>\n",
       "      <td>sonata</td>\n",
       "      <td>4 cylinders</td>\n",
       "      <td>90821.0</td>\n",
       "      <td>automatic</td>\n",
       "      <td>fwd</td>\n",
       "      <td>grey</td>\n",
       "      <td>MN</td>\n",
       "    </tr>\n",
       "    <tr>\n",
       "      <th>2</th>\n",
       "      <td>7193375964</td>\n",
       "      <td>10900</td>\n",
       "      <td>2013.0</td>\n",
       "      <td>toyota</td>\n",
       "      <td>prius</td>\n",
       "      <td>4 cylinders</td>\n",
       "      <td>92800.0</td>\n",
       "      <td>automatic</td>\n",
       "      <td>fwd</td>\n",
       "      <td>blue</td>\n",
       "      <td>CT</td>\n",
       "    </tr>\n",
       "    <tr>\n",
       "      <th>6</th>\n",
       "      <td>7184710887</td>\n",
       "      <td>7995</td>\n",
       "      <td>2010.0</td>\n",
       "      <td>chevrolet</td>\n",
       "      <td>equinox</td>\n",
       "      <td>4 cylinders</td>\n",
       "      <td>108124.0</td>\n",
       "      <td>automatic</td>\n",
       "      <td>4wd</td>\n",
       "      <td>grey</td>\n",
       "      <td>MN</td>\n",
       "    </tr>\n",
       "    <tr>\n",
       "      <th>14</th>\n",
       "      <td>7184705759</td>\n",
       "      <td>10995</td>\n",
       "      <td>2008.0</td>\n",
       "      <td>chevrolet</td>\n",
       "      <td>tahoe</td>\n",
       "      <td>Unknown</td>\n",
       "      <td>143528.0</td>\n",
       "      <td>automatic</td>\n",
       "      <td>4wd</td>\n",
       "      <td>grey</td>\n",
       "      <td>MN</td>\n",
       "    </tr>\n",
       "    <tr>\n",
       "      <th>17</th>\n",
       "      <td>7184703651</td>\n",
       "      <td>14995</td>\n",
       "      <td>2011.0</td>\n",
       "      <td>chevrolet</td>\n",
       "      <td>silverado 1500</td>\n",
       "      <td>8 cylinders</td>\n",
       "      <td>102462.0</td>\n",
       "      <td>automatic</td>\n",
       "      <td>4wd</td>\n",
       "      <td>blue</td>\n",
       "      <td>MN</td>\n",
       "    </tr>\n",
       "  </tbody>\n",
       "</table>\n",
       "</div>"
      ],
      "text/plain": [
       "            id  price    year manufacturer           model    cylinders  \\\n",
       "1   7184773187   8750  2013.0      hyundai          sonata  4 cylinders   \n",
       "2   7193375964  10900  2013.0       toyota           prius  4 cylinders   \n",
       "6   7184710887   7995  2010.0    chevrolet         equinox  4 cylinders   \n",
       "14  7184705759  10995  2008.0    chevrolet           tahoe      Unknown   \n",
       "17  7184703651  14995  2011.0    chevrolet  silverado 1500  8 cylinders   \n",
       "\n",
       "    odometer transmission drive paint_color state  \n",
       "1    90821.0    automatic   fwd        grey    MN  \n",
       "2    92800.0    automatic   fwd        blue    CT  \n",
       "6   108124.0    automatic   4wd        grey    MN  \n",
       "14  143528.0    automatic   4wd        grey    MN  \n",
       "17  102462.0    automatic   4wd        blue    MN  "
      ]
     },
     "execution_count": 2,
     "metadata": {},
     "output_type": "execute_result"
    }
   ],
   "source": [
    "cars = pd.read_csv('cars.csv', index_col=0)\n",
    "X_train = pd.read_csv('cars_x_train.csv', index_col=0)\n",
    "X_test = pd.read_csv('cars_x_test.csv', index_col=0)\n",
    "y_train = pd.read_csv('cars_y_train.csv', index_col=0)\n",
    "y_test = pd.read_csv('cars_y_test.csv', index_col=0)\n",
    "\n",
    "cars.head()"
   ]
  },
  {
   "cell_type": "code",
   "execution_count": 3,
   "metadata": {},
   "outputs": [
    {
     "data": {
      "text/plain": [
       "((128459, 118), (55055, 119))"
      ]
     },
     "execution_count": 3,
     "metadata": {},
     "output_type": "execute_result"
    }
   ],
   "source": [
    "X_train.shape, X_test.shape"
   ]
  },
  {
   "cell_type": "markdown",
   "metadata": {},
   "source": [
    "I immediately notice a small problem.  The column sizes are different, which means there is a variable in the test set that is not in the training set.  I need to determine what it is."
   ]
  },
  {
   "cell_type": "code",
   "execution_count": 12,
   "metadata": {},
   "outputs": [
    {
     "data": {
      "text/plain": [
       "{'morgan'}"
      ]
     },
     "execution_count": 12,
     "metadata": {},
     "output_type": "execute_result"
    }
   ],
   "source": [
    "set(X_test.columns).difference(X_train.columns)"
   ]
  },
  {
   "cell_type": "markdown",
   "metadata": {},
   "source": [
    "I did research and found out this was indeed a car type.  However, the model would not run on the training set because the number of columns are different.  I will have to drop this column to make sure they are the same."
   ]
  },
  {
   "cell_type": "code",
   "execution_count": 13,
   "metadata": {},
   "outputs": [
    {
     "data": {
      "text/plain": [
       "((128459, 118), (55055, 118))"
      ]
     },
     "execution_count": 13,
     "metadata": {},
     "output_type": "execute_result"
    }
   ],
   "source": [
    "X_test = X_test.drop('morgan',axis=1)\n",
    "X_train.shape, X_test.shape"
   ]
  },
  {
   "cell_type": "code",
   "execution_count": 4,
   "metadata": {},
   "outputs": [
    {
     "data": {
      "text/plain": [
       "((128459, 1), (55055, 1))"
      ]
     },
     "execution_count": 4,
     "metadata": {},
     "output_type": "execute_result"
    }
   ],
   "source": [
    "y_train.shape, y_test.shape"
   ]
  },
  {
   "cell_type": "markdown",
   "metadata": {},
   "source": [
    "Now it's time for modeling <br>\n",
    "I want to run cross validation on all the training sets to get an idea of the best hyperparameters that I can use the maximize the effectiveness of my model.  For each of my models, I will use GridSearchCV for this, and I will pick three hyperparameters that are often accepted as the most important, as well as three options for each hyperparameter.\n",
    "\n",
    "\n",
    "The first model I will use Random Forest<br> \n",
    "The three hyperparameters I will focus on are: <br>\n",
    "n_estimators-number of trees in the forest<br>\n",
    "max_features- max number of features considered for splitting a node<br>\n",
    "max_depth- max number of levels in each decision tree.  "
   ]
  },
  {
   "cell_type": "code",
   "execution_count": 6,
   "metadata": {},
   "outputs": [
    {
     "name": "stderr",
     "output_type": "stream",
     "text": [
      "C:\\Users\\Jonathan\\anaconda3\\lib\\site-packages\\sklearn\\model_selection\\_search.py:765: DataConversionWarning: A column-vector y was passed when a 1d array was expected. Please change the shape of y to (n_samples,), for example using ravel().\n",
      "  self.best_estimator_.fit(X, y, **fit_params)\n"
     ]
    },
    {
     "data": {
      "text/plain": [
       "GridSearchCV(cv=3, estimator=RandomForestRegressor(), n_jobs=-1,\n",
       "             param_grid={'max_depth': [30, 60, 90], 'max_features': [5, 7, 9],\n",
       "                         'n_estimators': [50, 100, 200]})"
      ]
     },
     "execution_count": 6,
     "metadata": {},
     "output_type": "execute_result"
    }
   ],
   "source": [
    "rf = RandomForestRegressor()\n",
    "param = {'n_estimators':[50,100,200],'max_depth':[30,60,90], 'max_features':[5,7,9]}\n",
    "gs = GridSearchCV(rf, param, cv=3, n_jobs=-1)\n",
    "gs.fit(X_train,y_train)"
   ]
  },
  {
   "cell_type": "code",
   "execution_count": 7,
   "metadata": {},
   "outputs": [
    {
     "data": {
      "text/plain": [
       "{'max_depth': 60, 'max_features': 9, 'n_estimators': 200}"
      ]
     },
     "execution_count": 7,
     "metadata": {},
     "output_type": "execute_result"
    }
   ],
   "source": [
    "gs.best_params_"
   ]
  },
  {
   "cell_type": "markdown",
   "metadata": {},
   "source": [
    "From the options I gave, the model determined that the best hyperparameters are a max depth of 60, 9 max features, and 200 estimators.  I will now use these to fit and train my model, also timing to see how long it takes to predict on new models."
   ]
  },
  {
   "cell_type": "code",
   "execution_count": 25,
   "metadata": {},
   "outputs": [
    {
     "name": "stderr",
     "output_type": "stream",
     "text": [
      "<ipython-input-25-c261021ee242>:2: DataConversionWarning: A column-vector y was passed when a 1d array was expected. Please change the shape of y to (n_samples,), for example using ravel().\n",
      "  model_res = rfr.fit(X_train, y_train)\n"
     ]
    },
    {
     "data": {
      "text/plain": [
       "16.23550844192505"
      ]
     },
     "execution_count": 25,
     "metadata": {},
     "output_type": "execute_result"
    }
   ],
   "source": [
    "rfr = RandomForestRegressor(n_estimators=200, max_depth=60,max_features=9)\n",
    "model_res = rfr.fit(X_train, y_train)\n",
    "startrf=time.time()\n",
    "y_pred = model_res.predict(X_test)\n",
    "endrf=time.time()\n",
    "rf_pred_time = (endrf-startrf)\n",
    "rf_pred_time"
   ]
  },
  {
   "cell_type": "markdown",
   "metadata": {},
   "source": [
    "The time taken was a little over 16 seconds.  Now I will compare the predicted y values to the actual y values using root mean squared error and mean absolute error.  I will also find the adjusted r squared.  To do this I need to find the r squared then put it in the formula for determining adjusted r squared.  I will come back to this information after I ran all of my models to compare."
   ]
  },
  {
   "cell_type": "code",
   "execution_count": 18,
   "metadata": {},
   "outputs": [
    {
     "data": {
      "text/plain": [
       "5315.731003727275"
      ]
     },
     "execution_count": 18,
     "metadata": {},
     "output_type": "execute_result"
    }
   ],
   "source": [
    "rand_for_rmse = sqrt(mean_squared_error(y_test,y_pred))\n",
    "rand_for_rmse"
   ]
  },
  {
   "cell_type": "code",
   "execution_count": 67,
   "metadata": {},
   "outputs": [
    {
     "data": {
      "text/plain": [
       "2865.730840535116"
      ]
     },
     "execution_count": 67,
     "metadata": {},
     "output_type": "execute_result"
    }
   ],
   "source": [
    "rand_for_mae = mean_absolute_error(y_test,y_pred)\n",
    "rand_for_mae"
   ]
  },
  {
   "cell_type": "code",
   "execution_count": 20,
   "metadata": {},
   "outputs": [
    {
     "data": {
      "text/plain": [
       "0.8272768067406069"
      ]
     },
     "execution_count": 20,
     "metadata": {},
     "output_type": "execute_result"
    }
   ],
   "source": [
    "rand_for_rsq = r2_score(y_test,y_pred)\n",
    "rand_for_rsq"
   ]
  },
  {
   "cell_type": "code",
   "execution_count": 21,
   "metadata": {},
   "outputs": [
    {
     "data": {
      "text/plain": [
       "0.8272485660513648"
      ]
     },
     "execution_count": 21,
     "metadata": {},
     "output_type": "execute_result"
    }
   ],
   "source": [
    "rand_for_adjrsq = (1-(1-rand_for_rsq)*((len(X_test)-1)/(len(X_test)-9-1)))\n",
    "rand_for_adjrsq"
   ]
  },
  {
   "cell_type": "markdown",
   "metadata": {},
   "source": [
    "The next model I will use is Adaboost<br>\n",
    "The three hyperparameters I will focus on are: <br>\n",
    "n_estimators - The maximum number of estimators at which boosting is terminated<br>\n",
    "learning-rate - shrinks the contribution of each classifier by learning_rate<br>\n",
    "loss - the loss function to use when updating the weights after each boosting iteration.\n",
    "\n",
    "I will follow all of the same procedures as the previous model."
   ]
  },
  {
   "cell_type": "code",
   "execution_count": 22,
   "metadata": {},
   "outputs": [
    {
     "name": "stderr",
     "output_type": "stream",
     "text": [
      "C:\\Users\\Jonathan\\anaconda3\\lib\\site-packages\\sklearn\\utils\\validation.py:73: DataConversionWarning: A column-vector y was passed when a 1d array was expected. Please change the shape of y to (n_samples, ), for example using ravel().\n",
      "  return f(**kwargs)\n"
     ]
    },
    {
     "data": {
      "text/plain": [
       "GridSearchCV(cv=3, estimator=AdaBoostRegressor(), n_jobs=-1,\n",
       "             param_grid={'learning_rate': [0.01, 0.05, 0.1],\n",
       "                         'loss': ['linear', 'square', 'exponential'],\n",
       "                         'n_estimators': [50, 100, 150]})"
      ]
     },
     "execution_count": 22,
     "metadata": {},
     "output_type": "execute_result"
    }
   ],
   "source": [
    "ar = AdaBoostRegressor()\n",
    "param_ada = {\n",
    " 'n_estimators': [50, 100, 150],\n",
    " 'learning_rate' : [0.01,0.05,0.1],\n",
    " 'loss' : ['linear', 'square', 'exponential']\n",
    " }\n",
    "gsa = GridSearchCV(ar, param_ada, cv=3, n_jobs=-1)\n",
    "gsa.fit(X_train,y_train)"
   ]
  },
  {
   "cell_type": "code",
   "execution_count": 23,
   "metadata": {},
   "outputs": [
    {
     "data": {
      "text/plain": [
       "{'learning_rate': 0.05, 'loss': 'exponential', 'n_estimators': 50}"
      ]
     },
     "execution_count": 23,
     "metadata": {},
     "output_type": "execute_result"
    }
   ],
   "source": [
    "gsa.best_params_"
   ]
  },
  {
   "cell_type": "markdown",
   "metadata": {},
   "source": [
    "From the options I gave, the model determined that the best hyperparameters are a learning rate of 0.05, an exponential loss function, and 50 estimators.  I will now use these to fit and train my model, also timing to see how long it takes to predict on new models."
   ]
  },
  {
   "cell_type": "code",
   "execution_count": 34,
   "metadata": {},
   "outputs": [
    {
     "name": "stderr",
     "output_type": "stream",
     "text": [
      "C:\\Users\\Jonathan\\anaconda3\\lib\\site-packages\\sklearn\\utils\\validation.py:73: DataConversionWarning: A column-vector y was passed when a 1d array was expected. Please change the shape of y to (n_samples, ), for example using ravel().\n",
      "  return f(**kwargs)\n"
     ]
    },
    {
     "data": {
      "text/plain": [
       "3.970144510269165"
      ]
     },
     "execution_count": 34,
     "metadata": {},
     "output_type": "execute_result"
    }
   ],
   "source": [
    "abr = AdaBoostRegressor(n_estimators=50,learning_rate=0.05,loss=\"exponential\")\n",
    "modelada= abr.fit(X_train, y_train)\n",
    "startab=time.time()\n",
    "y_pred_ab = modelada.predict(X_test)\n",
    "endab=time.time()\n",
    "ab_pred_time = (endab-startab)\n",
    "ab_pred_time"
   ]
  },
  {
   "cell_type": "markdown",
   "metadata": {},
   "source": [
    "The time taken was a little less than 4 seconds. I will calculate rmse, mae, and adjusted r squared as before. I will come back to this information after I ran all of my models to compare."
   ]
  },
  {
   "cell_type": "code",
   "execution_count": 35,
   "metadata": {},
   "outputs": [
    {
     "data": {
      "text/plain": [
       "9366.062196965706"
      ]
     },
     "execution_count": 35,
     "metadata": {},
     "output_type": "execute_result"
    }
   ],
   "source": [
    "ab_rmse = sqrt(mean_squared_error(y_test,y_pred_ab))\n",
    "ab_rmse"
   ]
  },
  {
   "cell_type": "code",
   "execution_count": 68,
   "metadata": {},
   "outputs": [
    {
     "data": {
      "text/plain": [
       "6502.514551071933"
      ]
     },
     "execution_count": 68,
     "metadata": {},
     "output_type": "execute_result"
    }
   ],
   "source": [
    "ab_mae = mean_absolute_error(y_test,y_pred_ab)\n",
    "ab_mae"
   ]
  },
  {
   "cell_type": "code",
   "execution_count": 36,
   "metadata": {},
   "outputs": [
    {
     "data": {
      "text/plain": [
       "0.46378526792393193"
      ]
     },
     "execution_count": 36,
     "metadata": {},
     "output_type": "execute_result"
    }
   ],
   "source": [
    "ab_rsq = r2_score(y_test,y_pred_ab)\n",
    "ab_rsq"
   ]
  },
  {
   "cell_type": "code",
   "execution_count": 37,
   "metadata": {},
   "outputs": [
    {
     "data": {
      "text/plain": [
       "0.46369759542708966"
      ]
     },
     "execution_count": 37,
     "metadata": {},
     "output_type": "execute_result"
    }
   ],
   "source": [
    "ab_adjrsq = (1-(1-ab_rsq)*((len(X_test)-1)/(len(X_test)-9-1)))\n",
    "ab_adjrsq"
   ]
  },
  {
   "cell_type": "markdown",
   "metadata": {},
   "source": [
    "The final model that I will use is Gradient Boosting<br>\n",
    "The three hyperparameters that I will focus on are:<br>\n",
    "n_estimators - the number of boosting stages to perform<br>\n",
    "learning_rate - shrinks the contribution of each tree by learning_rate<br>\n",
    "max_depth - maximum depth of the individual regression estimators\n",
    "\n",
    "I will follow the same procedure as with the previous models."
   ]
  },
  {
   "cell_type": "code",
   "execution_count": 32,
   "metadata": {},
   "outputs": [
    {
     "name": "stderr",
     "output_type": "stream",
     "text": [
      "C:\\Users\\Jonathan\\anaconda3\\lib\\site-packages\\sklearn\\utils\\validation.py:73: DataConversionWarning: A column-vector y was passed when a 1d array was expected. Please change the shape of y to (n_samples, ), for example using ravel().\n",
      "  return f(**kwargs)\n"
     ]
    },
    {
     "data": {
      "text/plain": [
       "GridSearchCV(cv=3, estimator=GradientBoostingRegressor(), n_jobs=-1,\n",
       "             param_grid={'learning_rate': [0.01, 0.05, 0.1],\n",
       "                         'max_depth': [2, 4, 6],\n",
       "                         'n_estimators': [50, 100, 200]})"
      ]
     },
     "execution_count": 32,
     "metadata": {},
     "output_type": "execute_result"
    }
   ],
   "source": [
    "gb = GradientBoostingRegressor()\n",
    "param_gb = {\n",
    "    'n_estimators':[50,100,200],\n",
    "    'learning_rate':[0.01,0.05,0.1],\n",
    "    'max_depth':[2,4,6]\n",
    "}\n",
    "gsg = GridSearchCV(gb, param_gb, cv=3, n_jobs=-1)\n",
    "gsg.fit(X_train,y_train)"
   ]
  },
  {
   "cell_type": "code",
   "execution_count": 33,
   "metadata": {},
   "outputs": [
    {
     "data": {
      "text/plain": [
       "{'learning_rate': 0.1, 'max_depth': 6, 'n_estimators': 200}"
      ]
     },
     "execution_count": 33,
     "metadata": {},
     "output_type": "execute_result"
    }
   ],
   "source": [
    "gsg.best_params_"
   ]
  },
  {
   "cell_type": "markdown",
   "metadata": {},
   "source": [
    "From the options I gave, the model determined that the best hyperparameters are a learning rate of 0.1, a max depth of 6, and 200 estimators.  I will now use these to fit and train my model, also timing to see how long it takes to predict on new models."
   ]
  },
  {
   "cell_type": "code",
   "execution_count": 39,
   "metadata": {},
   "outputs": [
    {
     "name": "stderr",
     "output_type": "stream",
     "text": [
      "C:\\Users\\Jonathan\\anaconda3\\lib\\site-packages\\sklearn\\utils\\validation.py:73: DataConversionWarning: A column-vector y was passed when a 1d array was expected. Please change the shape of y to (n_samples, ), for example using ravel().\n",
      "  return f(**kwargs)\n"
     ]
    },
    {
     "data": {
      "text/plain": [
       "1.3992550373077393"
      ]
     },
     "execution_count": 39,
     "metadata": {},
     "output_type": "execute_result"
    }
   ],
   "source": [
    "gbr = GradientBoostingRegressor(learning_rate=0.1,max_depth=6,n_estimators=200)\n",
    "model_gb = gbr.fit(X_train,y_train)\n",
    "startgb = time.time()\n",
    "y_pred_gb = model_gb.predict(X_test)\n",
    "endgb = time.time()\n",
    "gb_pred_time = (endgb - startgb)\n",
    "gb_pred_time"
   ]
  },
  {
   "cell_type": "markdown",
   "metadata": {},
   "source": [
    "The time taken was about 1.4 seconds.  Now I will get the rmse, mae, and adjusted r squared as before, then compare all the data."
   ]
  },
  {
   "cell_type": "code",
   "execution_count": 40,
   "metadata": {},
   "outputs": [
    {
     "data": {
      "text/plain": [
       "6674.371283015928"
      ]
     },
     "execution_count": 40,
     "metadata": {},
     "output_type": "execute_result"
    }
   ],
   "source": [
    "gb_rmse = sqrt(mean_squared_error(y_test,y_pred_gb))\n",
    "gb_rmse"
   ]
  },
  {
   "cell_type": "code",
   "execution_count": 69,
   "metadata": {},
   "outputs": [
    {
     "data": {
      "text/plain": [
       "2865.730840535116"
      ]
     },
     "execution_count": 69,
     "metadata": {},
     "output_type": "execute_result"
    }
   ],
   "source": [
    "gb_mae = mean_absolute_error(y_test,y_pred_gb)\n",
    "rand_for_mae"
   ]
  },
  {
   "cell_type": "code",
   "execution_count": 41,
   "metadata": {},
   "outputs": [
    {
     "data": {
      "text/plain": [
       "0.7277014110891817"
      ]
     },
     "execution_count": 41,
     "metadata": {},
     "output_type": "execute_result"
    }
   ],
   "source": [
    "gb_rsq = r2_score(y_test,y_pred_gb)\n",
    "gb_rsq"
   ]
  },
  {
   "cell_type": "code",
   "execution_count": 42,
   "metadata": {},
   "outputs": [
    {
     "data": {
      "text/plain": [
       "0.7276568895649707"
      ]
     },
     "execution_count": 42,
     "metadata": {},
     "output_type": "execute_result"
    }
   ],
   "source": [
    "gb_adjrsq = (1-(1-gb_rsq)*((len(X_test)-1)/(len(X_test)-9-1)))\n",
    "gb_adjrsq"
   ]
  },
  {
   "cell_type": "markdown",
   "metadata": {},
   "source": [
    "It is now time to compare my results.  There were not many data points that we were using, but it is still nice to see them graphically.  The first thing I will compare is the time it took for each model to make a prediction.  This could be an important factor if customers are wanting fast results."
   ]
  },
  {
   "cell_type": "code",
   "execution_count": 59,
   "metadata": {
    "scrolled": true
   },
   "outputs": [
    {
     "data": {
      "image/png": "[encoded data removed]",
      "text/plain": [
       "<Figure size 432x288 with 1 Axes>"
      ]
     },
     "metadata": {
      "needs_background": "light"
     },
     "output_type": "display_data"
    }
   ],
   "source": [
    "all_times = [rf_pred_time, ab_pred_time, gb_pred_time]\n",
    "labels = ['Random Forest', 'AdaBoost', 'Gradient Boosting']\n",
    "fig,ax = plt.subplots()\n",
    "time_bar = ax.bar(labels,all_times)\n",
    "ax.set_xlabel('Type of regressor')\n",
    "ax.set_ylabel('Time to predict in seconds')\n",
    "ax.set_title('Time of prediction for Each Model')\n",
    "plt.show()"
   ]
  },
  {
   "cell_type": "markdown",
   "metadata": {},
   "source": [
    "The time difference between random forest and the two boosting models was significant, taking almost four times as long as the next longest variable.  Gradient boosting was by far the fastest predictor.\n",
    "\n",
    "Now we will compare the square root of the error of each model.  A lower score means that the predictions were closer to the actual values."
   ]
  },
  {
   "cell_type": "code",
   "execution_count": 64,
   "metadata": {},
   "outputs": [
    {
     "data": {
      "image/png": "[encoded data removed]",
      "text/plain": [
       "<Figure size 432x288 with 1 Axes>"
      ]
     },
     "metadata": {
      "needs_background": "light"
     },
     "output_type": "display_data"
    }
   ],
   "source": [
    "all_rmse = [rand_for_rmse, ab_rmse, gb_rmse]\n",
    "fig,ax = plt.subplots()\n",
    "rmse_bar = ax.bar(labels,all_rmse)\n",
    "ax.set_xlabel('Type of regressor')\n",
    "ax.set_ylabel('RMSE')\n",
    "ax.set_title('Root Mean Squared Error for Each Model')\n",
    "plt.show()"
   ]
  },
  {
   "cell_type": "markdown",
   "metadata": {},
   "source": [
    "While random forest took much longer to predict, it had the best results with the smallest RMSE.  Gradient boosting had higher RMSE, but AdaBoost was significantly higher.  RMSE is usually considered the most important factors in determining regression model effectiveness, so AdaBoost is likely eliminated as the best model.\n",
    "\n",
    "The next graph we will look at mean absolute error, which also has a lower score being better."
   ]
  },
  {
   "cell_type": "code",
   "execution_count": 70,
   "metadata": {},
   "outputs": [
    {
     "data": {
      "image/png": "[encoded data removed]",
      "text/plain": [
       "<Figure size 432x288 with 1 Axes>"
      ]
     },
     "metadata": {
      "needs_background": "light"
     },
     "output_type": "display_data"
    }
   ],
   "source": [
    "all_mae = [rand_for_mae, ab_mae, gb_mae]\n",
    "fig,ax = plt.subplots()\n",
    "adjsqr_bar = ax.bar(labels,all_mae)\n",
    "ax.set_xlabel('Type of regressor')\n",
    "ax.set_ylabel('Mean Absolute Error')\n",
    "ax.set_title('Mean Absolute Error for Each Model')\n",
    "plt.show()"
   ]
  },
  {
   "cell_type": "markdown",
   "metadata": {},
   "source": [
    "Random forest had the best MAE score, with AdaBoost scoring the lowest.  This coincides fairly well with the RMSE.\n",
    "\n",
    "The final graph that we will use for prediction is adjusted r squared, which generally is better at scoring at r squared because it takes into account the number of variables used.  Unlike RMSE and MAE, a higher score is considered better."
   ]
  },
  {
   "cell_type": "code",
   "execution_count": 65,
   "metadata": {},
   "outputs": [
    {
     "data": {
      "image/png": "[encoded data removed]",
      "text/plain": [
       "<Figure size 432x288 with 1 Axes>"
      ]
     },
     "metadata": {
      "needs_background": "light"
     },
     "output_type": "display_data"
    }
   ],
   "source": [
    "all_mae = [rand_for_adjrsq, ab_adjrsq, gb_adjrsq]\n",
    "fig,ax = plt.subplots()\n",
    "adjsqr_bar = ax.bar(labels,all_adjrsq)\n",
    "ax.set_xlabel('Type of regressor')\n",
    "ax.set_ylabel('Adjusted R Squared')\n",
    "ax.set_title('Adjusted R Squared for Each Model')\n",
    "plt.show()"
   ]
  },
  {
   "cell_type": "markdown",
   "metadata": {},
   "source": [
    "Once again random forest scored the best, followed closely by gradient boosting.  AdaBoost was a much lower score, and its time was worse than gradient boosting, so for this project, it can be eliminated as the best option."
   ]
  },
  {
   "cell_type": "markdown",
   "metadata": {},
   "source": [
    "The final question comes down to what model was the best performer for predicting vehicle price based on the variables given.  If I did not take into account time taken to make a prediction, Random Forest easily scored the best.  However, when taking into account time, it took over 16 seconds to make a prediction, while Gradient Boosting took just over 1 second.  This comes down to what is more important, accuracy or time?\n",
    "\n",
    "Since this model is based on car predictions, and they are typically large investments, I am deciding that the less error is the most important factor in determining what model should go with price.  Therefore, Random Forest with the hyperparameters given is the best model."
   ]
  },
  {
   "cell_type": "code",
   "execution_count": null,
   "metadata": {},
   "outputs": [],
   "source": []
  }
 ],
 "metadata": {
  "kernelspec": {
   "display_name": "Python 3",
   "language": "python",
   "name": "python3"
  },
  "language_info": {
   "codemirror_mode": {
    "name": "ipython",
    "version": 3
   },
   "file_extension": ".py",
   "mimetype": "text/x-python",
   "name": "python",
   "nbconvert_exporter": "python",
   "pygments_lexer": "ipython3",
   "version": "3.8.3"
  }
 },
 "nbformat": 4,
 "nbformat_minor": 4
}

{
 "cells": [
  {
   "cell_type": "markdown",
   "metadata": {},
   "source": [
    "The purpose of this section of the capstone project is to model the car data that has been prepared and determine which model would perform best as a predictor of car price.  To recap, the following variables have all been show to be statistically significant in affecting car price, and so they will all be taken into account in the models:\n",
    "\n",
    "Year <br>\n",
    "Manufacturer <br>\n",
    "Number of Cylinders <br>\n",
    "Odometer <br>\n",
    "Transmission <br>\n",
    "Drive <br>\n",
    "Paint Color <br>\n",
    "State\n",
    "\n",
    "In the previous part of the project, the data had already been put into training (%70) and testing sets(%30), and dummy variables have been assigned to all of the categorical variables, so all that is left to do is model the data.  The three models that I am using are Random Forest, AdaBoost, and Gradient Boosting.  They are all three ensemble methods that all use trees to split data, which is useful since I did not scale the data.\n",
    "\n",
    "Since this is a regression model, I am ranking the performance of the data on three key factors, root mean squared error, mean absolute error and adjusted r squared.  These are commonly accepted as among the most important factors in determining model effectiveness for regression.  I am also taking into account the time it takes to fit each model, which could be a big factor if someone wants quick results."
   ]
  },
  {
   "cell_type": "markdown",
   "metadata": {},
   "source": [
    "First I will import any models that I might use.  I will likely not use all of them."
   ]
  },
  {
   "cell_type": "code",
   "execution_count": 1,
   "metadata": {},
   "outputs": [],
   "source": [
    "import pandas as pd\n",
    "import numpy as np\n",
    "import os\n",
    "import pickle\n",
    "import matplotlib.pyplot as plt\n",
    "import seaborn as sns\n",
    "from sklearn.model_selection import GridSearchCV\n",
    "from sklearn.ensemble import RandomForestRegressor,AdaBoostRegressor,GradientBoostingRegressor\n",
    "from sklearn.metrics import mean_squared_error, r2_score, mean_absolute_error\n",
    "from math import sqrt\n",
    "import statsmodels.api as sm\n",
    "import time"
   ]
  },
  {
   "cell_type": "markdown",
   "metadata": {},
   "source": [
    "Now to import the data and look at it to make sure it is ready to model."
   ]
  },
  {
   "cell_type": "code",
   "execution_count": 2,
   "metadata": {},
   "outputs": [
    {
     "data": {
      "text/html": [
       "<div>\n",
       "<style scoped>\n",
       "    .dataframe tbody tr th:only-of-type {\n",
       "        vertical-align: middle;\n",
       "    }\n",
       "\n",
       "    .dataframe tbody tr th {\n",
       "        vertical-align: top;\n",
       "    }\n",
       "\n",
       "    .dataframe thead th {\n",
       "        text-align: right;\n",
       "    }\n",
       "</style>\n",
       "<table border=\"1\" class=\"dataframe\">\n",
       "  <thead>\n",
       "    <tr style=\"text-align: right;\">\n",
       "      <th></th>\n",
       "      <th>id</th>\n",
       "      <th>price</th>\n",
       "      <th>year</th>\n",
       "      <th>manufacturer</th>\n",
       "      <th>model</th>\n",
       "      <th>cylinders</th>\n",
       "      <th>odometer</th>\n",
       "      <th>transmission</th>\n",
       "      <th>drive</th>\n",
       "      <th>paint_color</th>\n",
       "      <th>state</th>\n",
       "    </tr>\n",
       "  </thead>\n",
       "  <tbody>\n",
       "    <tr>\n",
       "      <th>1</th>\n",
       "      <td>7184773187</td>\n",
       "      <td>8750</td>\n",
       "      <td>2013.0</td>\n",
       "      <td>hyundai</td>\n",
       "      <td>sonata</td>\n",
       "      <td>4 cylinders</td>\n",
       "      <td>90821.0</td>\n",
       "      <td>automatic</td>\n",
       "      <td>fwd</td>\n",
       "      <td>grey</td>\n",
       "      <td>MN</td>\n",
       "    </tr>\n",
       "    <tr>\n",
       "      <th>2</th>\n",
       "      <td>7193375964</td>\n",
       "      <td>10900</td>\n",
       "      <td>2013.0</td>\n",
       "      <td>toyota</td>\n",
       "      <td>prius</td>\n",
       "      <td>4 cylinders</td>\n",
       "      <td>92800.0</td>\n",
       "      <td>automatic</td>\n",
       "      <td>fwd</td>\n",
       "      <td>blue</td>\n",
       "      <td>CT</td>\n",
       "    </tr>\n",
       "    <tr>\n",
       "      <th>6</th>\n",
       "      <td>7184710887</td>\n",
       "      <td>7995</td>\n",
       "      <td>2010.0</td>\n",
       "      <td>chevrolet</td>\n",
       "      <td>equinox</td>\n",
       "      <td>4 cylinders</td>\n",
       "      <td>108124.0</td>\n",
       "      <td>automatic</td>\n",
       "      <td>4wd</td>\n",
       "      <td>grey</td>\n",
       "      <td>MN</td>\n",
       "    </tr>\n",
       "    <tr>\n",
       "      <th>14</th>\n",
       "      <td>7184705759</td>\n",
       "      <td>10995</td>\n",
       "      <td>2008.0</td>\n",
       "      <td>chevrolet</td>\n",
       "      <td>tahoe</td>\n",
       "      <td>Unknown</td>\n",
       "      <td>143528.0</td>\n",
       "      <td>automatic</td>\n",
       "      <td>4wd</td>\n",
       "      <td>grey</td>\n",
       "      <td>MN</td>\n",
       "    </tr>\n",
       "    <tr>\n",
       "      <th>17</th>\n",
       "      <td>7184703651</td>\n",
       "      <td>14995</td>\n",
       "      <td>2011.0</td>\n",
       "      <td>chevrolet</td>\n",
       "      <td>silverado 1500</td>\n",
       "      <td>8 cylinders</td>\n",
       "      <td>102462.0</td>\n",
       "      <td>automatic</td>\n",
       "      <td>4wd</td>\n",
       "      <td>blue</td>\n",
       "      <td>MN</td>\n",
       "    </tr>\n",
       "  </tbody>\n",
       "</table>\n",
       "</div>"
      ],
      "text/plain": [
       "            id  price    year manufacturer           model    cylinders  \\\n",
       "1   7184773187   8750  2013.0      hyundai          sonata  4 cylinders   \n",
       "2   7193375964  10900  2013.0       toyota           prius  4 cylinders   \n",
       "6   7184710887   7995  2010.0    chevrolet         equinox  4 cylinders   \n",
       "14  7184705759  10995  2008.0    chevrolet           tahoe      Unknown   \n",
       "17  7184703651  14995  2011.0    chevrolet  silverado 1500  8 cylinders   \n",
       "\n",
       "    odometer transmission drive paint_color state  \n",
       "1    90821.0    automatic   fwd        grey    MN  \n",
       "2    92800.0    automatic   fwd        blue    CT  \n",
       "6   108124.0    automatic   4wd        grey    MN  \n",
       "14  143528.0    automatic   4wd        grey    MN  \n",
       "17  102462.0    automatic   4wd        blue    MN  "
      ]
     },
     "execution_count": 2,
     "metadata": {},
     "output_type": "execute_result"
    }
   ],
   "source": [
    "cars = pd.read_csv('cars.csv', index_col=0)\n",
    "X_train = pd.read_csv('cars_x_train.csv', index_col=0)\n",
    "X_test = pd.read_csv('cars_x_test.csv', index_col=0)\n",
    "y_train = pd.read_csv('cars_y_train.csv', index_col=0)\n",
    "y_test = pd.read_csv('cars_y_test.csv', index_col=0)\n",
    "\n",
    "cars.head()"
   ]
  },
  {
   "cell_type": "code",
   "execution_count": 3,
   "metadata": {},
   "outputs": [
    {
     "data": {
      "text/plain": [
       "((128459, 118), (55055, 119))"
      ]
     },
     "execution_count": 3,
     "metadata": {},
     "output_type": "execute_result"
    }
   ],
   "source": [
    "X_train.shape, X_test.shape"
   ]
  },
  {
   "cell_type": "markdown",
   "metadata": {},
   "source": [
    "I immediately notice a small problem.  The column sizes are different, which means there is a variable in the test set that is not in the training set.  I need to determine what it is."
   ]
  },
  {
   "cell_type": "code",
   "execution_count": 4,
   "metadata": {},
   "outputs": [
    {
     "data": {
      "text/plain": [
       "{'morgan'}"
      ]
     },
     "execution_count": 4,
     "metadata": {},
     "output_type": "execute_result"
    }
   ],
   "source": [
    "set(X_test.columns).difference(X_train.columns)"
   ]
  },
  {
   "cell_type": "markdown",
   "metadata": {},
   "source": [
    "I did research and found out this was indeed a car type.  However, the model would not run on the training set because the number of columns are different.  I will have to drop this column to make sure they are the same."
   ]
  },
  {
   "cell_type": "code",
   "execution_count": 5,
   "metadata": {},
   "outputs": [
    {
     "data": {
      "text/plain": [
       "((128459, 118), (55055, 118))"
      ]
     },
     "execution_count": 5,
     "metadata": {},
     "output_type": "execute_result"
    }
   ],
   "source": [
    "X_test = X_test.drop('morgan',axis=1)\n",
    "X_train.shape, X_test.shape"
   ]
  },
  {
   "cell_type": "code",
   "execution_count": 6,
   "metadata": {},
   "outputs": [
    {
     "data": {
      "text/plain": [
       "((128459, 1), (55055, 1))"
      ]
     },
     "execution_count": 6,
     "metadata": {},
     "output_type": "execute_result"
    }
   ],
   "source": [
    "y_train.shape, y_test.shape"
   ]
  },
  {
   "cell_type": "markdown",
   "metadata": {},
   "source": [
    "Now it's time for modeling <br>\n",
    "I want to run cross validation on all the training sets to get an idea of the best hyperparameters that I can use the maximize the effectiveness of my model.  For each of my models, I will use GridSearchCV for this, and I will pick three hyperparameters that are often accepted as the most important, as well as three options for each hyperparameter.\n",
    "\n",
    "\n",
    "The first model I will use Random Forest<br> \n",
    "The three hyperparameters I will focus on are: <br>\n",
    "n_estimators-number of trees in the forest<br>\n",
    "max_features- max number of features considered for splitting a node<br>\n",
    "max_depth- max number of levels in each decision tree.  "
   ]
  },
  {
   "cell_type": "code",
   "execution_count": 7,
   "metadata": {},
   "outputs": [
    {
     "name": "stderr",
     "output_type": "stream",
     "text": [
      "C:\\Users\\Jonathan\\anaconda3\\lib\\site-packages\\sklearn\\model_selection\\_search.py:765: DataConversionWarning: A column-vector y was passed when a 1d array was expected. Please change the shape of y to (n_samples,), for example using ravel().\n",
      "  self.best_estimator_.fit(X, y, **fit_params)\n"
     ]
    },
    {
     "data": {
      "text/plain": [
       "GridSearchCV(cv=3, estimator=RandomForestRegressor(), n_jobs=-1,\n",
       "             param_grid={'max_depth': [30, 60, 90], 'max_features': [7, 9, 11],\n",
       "                         'n_estimators': [100, 150, 200]})"
      ]
     },
     "execution_count": 7,
     "metadata": {},
     "output_type": "execute_result"
    }
   ],
   "source": [
    "rf = RandomForestRegressor()\n",
    "param = {'n_estimators':[100,150,200],'max_depth':[30,60,90], 'max_features':[7,9,11]}\n",
    "gs = GridSearchCV(rf, param, cv=3, n_jobs=-1)\n",
    "gs.fit(X_train,y_train)"
   ]
  },
  {
   "cell_type": "code",
   "execution_count": 8,
   "metadata": {},
   "outputs": [
    {
     "data": {
      "text/plain": [
       "{'max_depth': 60, 'max_features': 11, 'n_estimators': 200}"
      ]
     },
     "execution_count": 8,
     "metadata": {},
     "output_type": "execute_result"
    }
   ],
   "source": [
    "gs.best_params_"
   ]
  },
  {
   "cell_type": "markdown",
   "metadata": {},
   "source": [
    "From the options I gave, the model determined that the best hyperparameters are a max depth of 60, 9 max features, and 200 estimators.  I will now use these to fit and train my model, also timing to see how long it takes to predict on new models."
   ]
  },
  {
   "cell_type": "code",
   "execution_count": 9,
   "metadata": {},
   "outputs": [
    {
     "name": "stderr",
     "output_type": "stream",
     "text": [
      "<ipython-input-9-82d7921e191b>:2: DataConversionWarning: A column-vector y was passed when a 1d array was expected. Please change the shape of y to (n_samples,), for example using ravel().\n",
      "  model_res = rfr.fit(X_train, y_train)\n"
     ]
    },
    {
     "data": {
      "text/plain": [
       "5.117738485336304"
      ]
     },
     "execution_count": 9,
     "metadata": {},
     "output_type": "execute_result"
    }
   ],
   "source": [
    "rfr = RandomForestRegressor(n_estimators=200, max_depth=60,max_features=11)\n",
    "model_res = rfr.fit(X_train, y_train)\n",
    "startrf=time.time()\n",
    "y_pred = model_res.predict(X_test)\n",
    "endrf=time.time()\n",
    "rf_pred_time = (endrf-startrf)\n",
    "rf_pred_time"
   ]
  },
  {
   "cell_type": "code",
   "execution_count": 81,
   "metadata": {},
   "outputs": [
    {
     "data": {
      "text/plain": [
       "0.009295683380866959"
      ]
     },
     "execution_count": 81,
     "metadata": {},
     "output_type": "execute_result"
    }
   ],
   "source": [
    "rf_time = rf_pred_time/len(X_test)*100\n",
    "rf_time"
   ]
  },
  {
   "cell_type": "markdown",
   "metadata": {},
   "source": [
    "The time that it would take to fit 100 vehicle samples is 0.009 seconds.  I picked this value to get an idea of time it would take if a company was testing many cars at a time.  Now I will compare the predicted y values to the actual y values using root mean squared error and mean absolute error.  I will also find the adjusted r squared.  To do this I need to find the r squared then put it in the formula for determining adjusted r squared.  I will come back to this information after I ran all of my models to compare."
   ]
  },
  {
   "cell_type": "code",
   "execution_count": 62,
   "metadata": {},
   "outputs": [
    {
     "name": "stdout",
     "output_type": "stream",
     "text": [
      "Feature: 0, Score: 0.24592\n",
      "Feature: 1, Score: 0.23322\n",
      "Feature: 2, Score: 0.00014\n",
      "Feature: 3, Score: 0.00080\n",
      "Feature: 4, Score: 0.00343\n",
      "Feature: 5, Score: 0.00327\n",
      "Feature: 6, Score: 0.00128\n",
      "Feature: 7, Score: 0.00407\n",
      "Feature: 8, Score: 0.00761\n",
      "Feature: 9, Score: 0.00215\n",
      "Feature: 10, Score: 0.00002\n",
      "Feature: 11, Score: 0.00461\n",
      "Feature: 12, Score: 0.00527\n",
      "Feature: 13, Score: 0.00039\n",
      "Feature: 14, Score: 0.01170\n",
      "Feature: 15, Score: 0.01009\n",
      "Feature: 16, Score: 0.00018\n",
      "Feature: 17, Score: 0.00345\n",
      "Feature: 18, Score: 0.00492\n",
      "Feature: 19, Score: 0.00091\n",
      "Feature: 20, Score: 0.00130\n",
      "Feature: 21, Score: 0.00417\n",
      "Feature: 22, Score: 0.00386\n",
      "Feature: 23, Score: 0.00003\n",
      "Feature: 24, Score: 0.00174\n",
      "Feature: 25, Score: 0.00154\n",
      "Feature: 26, Score: 0.00109\n",
      "Feature: 27, Score: 0.00618\n",
      "Feature: 28, Score: 0.00093\n",
      "Feature: 29, Score: 0.00037\n",
      "Feature: 30, Score: 0.00182\n",
      "Feature: 31, Score: 0.00716\n",
      "Feature: 32, Score: 0.00073\n",
      "Feature: 33, Score: 0.00010\n",
      "Feature: 34, Score: 0.01675\n",
      "Feature: 35, Score: 0.00237\n",
      "Feature: 36, Score: 0.00026\n",
      "Feature: 37, Score: 0.00276\n",
      "Feature: 38, Score: 0.00450\n",
      "Feature: 39, Score: 0.00480\n",
      "Feature: 40, Score: 0.00289\n",
      "Feature: 41, Score: 0.00091\n",
      "Feature: 42, Score: 0.00037\n",
      "Feature: 43, Score: 0.00037\n",
      "Feature: 44, Score: 0.03807\n",
      "Feature: 45, Score: 0.00033\n",
      "Feature: 46, Score: 0.01157\n",
      "Feature: 47, Score: 0.03127\n",
      "Feature: 48, Score: 0.01372\n",
      "Feature: 49, Score: 0.00056\n",
      "Feature: 50, Score: 0.00574\n",
      "Feature: 51, Score: 0.00361\n",
      "Feature: 52, Score: 0.00483\n",
      "Feature: 53, Score: 0.02120\n",
      "Feature: 54, Score: 0.07016\n",
      "Feature: 55, Score: 0.01343\n",
      "Feature: 56, Score: 0.00921\n",
      "Feature: 57, Score: 0.00454\n",
      "Feature: 58, Score: 0.00122\n",
      "Feature: 59, Score: 0.00218\n",
      "Feature: 60, Score: 0.00186\n",
      "Feature: 61, Score: 0.00476\n",
      "Feature: 62, Score: 0.00110\n",
      "Feature: 63, Score: 0.00060\n",
      "Feature: 64, Score: 0.00584\n",
      "Feature: 65, Score: 0.00556\n",
      "Feature: 66, Score: 0.01061\n",
      "Feature: 67, Score: 0.00084\n",
      "Feature: 68, Score: 0.00130\n",
      "Feature: 69, Score: 0.00130\n",
      "Feature: 70, Score: 0.00523\n",
      "Feature: 71, Score: 0.00675\n",
      "Feature: 72, Score: 0.00243\n",
      "Feature: 73, Score: 0.00141\n",
      "Feature: 74, Score: 0.00074\n",
      "Feature: 75, Score: 0.00022\n",
      "Feature: 76, Score: 0.00509\n",
      "Feature: 77, Score: 0.00081\n",
      "Feature: 78, Score: 0.00141\n",
      "Feature: 79, Score: 0.00217\n",
      "Feature: 80, Score: 0.00458\n",
      "Feature: 81, Score: 0.00200\n",
      "Feature: 82, Score: 0.00146\n",
      "Feature: 83, Score: 0.00134\n",
      "Feature: 84, Score: 0.00114\n",
      "Feature: 85, Score: 0.00132\n",
      "Feature: 86, Score: 0.00182\n",
      "Feature: 87, Score: 0.00139\n",
      "Feature: 88, Score: 0.00082\n",
      "Feature: 89, Score: 0.00475\n",
      "Feature: 90, Score: 0.00178\n",
      "Feature: 91, Score: 0.00153\n",
      "Feature: 92, Score: 0.00031\n",
      "Feature: 93, Score: 0.00400\n",
      "Feature: 94, Score: 0.00305\n",
      "Feature: 95, Score: 0.00014\n",
      "Feature: 96, Score: 0.00037\n",
      "Feature: 97, Score: 0.00102\n",
      "Feature: 98, Score: 0.00253\n",
      "Feature: 99, Score: 0.00219\n",
      "Feature: 100, Score: 0.00159\n",
      "Feature: 101, Score: 0.00376\n",
      "Feature: 102, Score: 0.00363\n",
      "Feature: 103, Score: 0.00151\n",
      "Feature: 104, Score: 0.00945\n",
      "Feature: 105, Score: 0.00666\n",
      "Feature: 106, Score: 0.00075\n",
      "Feature: 107, Score: 0.00178\n",
      "Feature: 108, Score: 0.00074\n",
      "Feature: 109, Score: 0.00268\n",
      "Feature: 110, Score: 0.00456\n",
      "Feature: 111, Score: 0.00059\n",
      "Feature: 112, Score: 0.00180\n",
      "Feature: 113, Score: 0.00101\n",
      "Feature: 114, Score: 0.01668\n",
      "Feature: 115, Score: 0.00259\n",
      "Feature: 116, Score: 0.00023\n",
      "Feature: 117, Score: 0.00031\n"
     ]
    }
   ],
   "source": [
    "importance_rf = model_res.feature_importances_\n",
    "for i,v in enumerate(importance_rf):\n",
    "    print('Feature: %0d, Score: %.5f' % (i,v))"
   ]
  },
  {
   "cell_type": "markdown",
   "metadata": {},
   "source": [
    "It's nice to see how every feature's importance was used, and I know feature 0 was year, and feature 1 was odometer, and those look to be by far the most important.  However, I am not sure what all of the other features are, and it is tedius to scroll through and find the highest features.  It would help to visualize it.  I'm going to look at the top 15 for this and label them."
   ]
  },
  {
   "cell_type": "code",
   "execution_count": 63,
   "metadata": {
    "scrolled": true
   },
   "outputs": [
    {
     "data": {
      "text/plain": [
       "<matplotlib.axes._subplots.AxesSubplot at 0x1f0343864c0>"
      ]
     },
     "execution_count": 63,
     "metadata": {},
     "output_type": "execute_result"
    },
    {
     "data": {
      "image/png": "[encoded data removed]",
      "text/plain": [
       "<Figure size 432x288 with 1 Axes>"
      ]
     },
     "metadata": {
      "needs_background": "light"
     },
     "output_type": "display_data"
    }
   ],
   "source": [
    "feat_importances_rf = pd.Series(model_res.feature_importances_, index=X_train.columns)\n",
    "feat_importances_rf.nlargest(15).plot(kind='barh')"
   ]
  },
  {
   "cell_type": "markdown",
   "metadata": {},
   "source": [
    "I used pd.options.display.max_columns equal to None so I could look at all of the dataframe columns at the same time(I'm not going to put it here to save space). I wanted to find out what Unknown and Unknown.1 represented.  Unknown.1 referred to drive, and Unknown referred to number of cylinders.  I was not surprised that year and odometer were by far the biggest factors that the model used, so I feel like the model did well.  Drive and number of cylinders were the next biggest factors, and then it gets closer.  It looks like being a west coast state could be a factor as well."
   ]
  },
  {
   "cell_type": "markdown",
   "metadata": {},
   "source": [
    "Now I will compare the predicted y values to the actual y values using root mean squared error and mean absolute error.  I will also find the adjusted r squared.  To do this I need to find the r squared then put it in the formula for determining adjusted r squared.  I will come back to this information after I ran all of my models to compare."
   ]
  },
  {
   "cell_type": "code",
   "execution_count": 10,
   "metadata": {},
   "outputs": [
    {
     "data": {
      "text/plain": [
       "5282.472640585916"
      ]
     },
     "execution_count": 10,
     "metadata": {},
     "output_type": "execute_result"
    }
   ],
   "source": [
    "rand_for_rmse = sqrt(mean_squared_error(y_test,y_pred))\n",
    "rand_for_rmse"
   ]
  },
  {
   "cell_type": "code",
   "execution_count": 11,
   "metadata": {},
   "outputs": [
    {
     "data": {
      "text/plain": [
       "2821.281130815781"
      ]
     },
     "execution_count": 11,
     "metadata": {},
     "output_type": "execute_result"
    }
   ],
   "source": [
    "rand_for_mae = mean_absolute_error(y_test,y_pred)\n",
    "rand_for_mae"
   ]
  },
  {
   "cell_type": "code",
   "execution_count": 12,
   "metadata": {},
   "outputs": [
    {
     "data": {
      "text/plain": [
       "0.8294313627975076"
      ]
     },
     "execution_count": 12,
     "metadata": {},
     "output_type": "execute_result"
    }
   ],
   "source": [
    "rand_for_rsq = r2_score(y_test,y_pred)\n",
    "rand_for_rsq"
   ]
  },
  {
   "cell_type": "code",
   "execution_count": 13,
   "metadata": {},
   "outputs": [
    {
     "data": {
      "text/plain": [
       "0.8294034743837585"
      ]
     },
     "execution_count": 13,
     "metadata": {},
     "output_type": "execute_result"
    }
   ],
   "source": [
    "rand_for_adjrsq = (1-(1-rand_for_rsq)*((len(X_test)-1)/(len(X_test)-9-1)))\n",
    "rand_for_adjrsq"
   ]
  },
  {
   "cell_type": "markdown",
   "metadata": {},
   "source": [
    "The next model I will use is Adaboost<br>\n",
    "The three hyperparameters I will focus on are: <br>\n",
    "n_estimators - The maximum number of estimators at which boosting is terminated<br>\n",
    "learning-rate - shrinks the contribution of each classifier by learning_rate<br>\n",
    "loss - the loss function to use when updating the weights after each boosting iteration.\n",
    "\n",
    "I will follow all of the same procedures as the previous model."
   ]
  },
  {
   "cell_type": "code",
   "execution_count": 14,
   "metadata": {},
   "outputs": [
    {
     "name": "stderr",
     "output_type": "stream",
     "text": [
      "C:\\Users\\Jonathan\\anaconda3\\lib\\site-packages\\sklearn\\utils\\validation.py:73: DataConversionWarning: A column-vector y was passed when a 1d array was expected. Please change the shape of y to (n_samples, ), for example using ravel().\n",
      "  return f(**kwargs)\n"
     ]
    },
    {
     "data": {
      "text/plain": [
       "GridSearchCV(cv=3, estimator=AdaBoostRegressor(), n_jobs=-1,\n",
       "             param_grid={'learning_rate': [0.01, 0.05, 0.1],\n",
       "                         'loss': ['linear', 'square', 'exponential'],\n",
       "                         'n_estimators': [25, 50, 75]})"
      ]
     },
     "execution_count": 14,
     "metadata": {},
     "output_type": "execute_result"
    }
   ],
   "source": [
    "ar = AdaBoostRegressor()\n",
    "param_ada = {\n",
    " 'n_estimators': [25, 50, 75],\n",
    " 'learning_rate' : [0.01,0.05,0.1],\n",
    " 'loss' : ['linear', 'square', 'exponential']\n",
    " }\n",
    "gsa = GridSearchCV(ar, param_ada, cv=3, n_jobs=-1)\n",
    "gsa.fit(X_train,y_train)"
   ]
  },
  {
   "cell_type": "code",
   "execution_count": 15,
   "metadata": {},
   "outputs": [
    {
     "data": {
      "text/plain": [
       "{'learning_rate': 0.05, 'loss': 'exponential', 'n_estimators': 50}"
      ]
     },
     "execution_count": 15,
     "metadata": {},
     "output_type": "execute_result"
    }
   ],
   "source": [
    "gsa.best_params_"
   ]
  },
  {
   "cell_type": "markdown",
   "metadata": {},
   "source": [
    "From the options I gave, the model determined that the best hyperparameters are a learning rate of 0.05, an exponential loss function, and 50 estimators.  I will now use these to fit and train my model, also timing to see how long it takes to predict on new models."
   ]
  },
  {
   "cell_type": "code",
   "execution_count": 16,
   "metadata": {},
   "outputs": [
    {
     "name": "stderr",
     "output_type": "stream",
     "text": [
      "C:\\Users\\Jonathan\\anaconda3\\lib\\site-packages\\sklearn\\utils\\validation.py:73: DataConversionWarning: A column-vector y was passed when a 1d array was expected. Please change the shape of y to (n_samples, ), for example using ravel().\n",
      "  return f(**kwargs)\n"
     ]
    },
    {
     "data": {
      "text/plain": [
       "1.4640848636627197"
      ]
     },
     "execution_count": 16,
     "metadata": {},
     "output_type": "execute_result"
    }
   ],
   "source": [
    "abr = AdaBoostRegressor(n_estimators=50,learning_rate=0.05,loss=\"exponential\")\n",
    "modelada= abr.fit(X_train, y_train)\n",
    "startab=time.time()\n",
    "y_pred_ab = modelada.predict(X_test)\n",
    "endab=time.time()\n",
    "ab_pred_time = (endab-startab)\n",
    "ab_pred_time"
   ]
  },
  {
   "cell_type": "code",
   "execution_count": 74,
   "metadata": {},
   "outputs": [
    {
     "data": {
      "text/plain": [
       "0.0026593131662205425"
      ]
     },
     "execution_count": 74,
     "metadata": {},
     "output_type": "execute_result"
    }
   ],
   "source": [
    "ab_time = ab_pred_time/len(X_test)*100\n",
    "ab_time"
   ]
  },
  {
   "cell_type": "markdown",
   "metadata": {},
   "source": [
    "The time taken for 100 vehicles was 0.0027 seconds. These values are small, so time would only be a factor for large datasets, and it would not affect individual sellers.  \n",
    "\n",
    "I want to look at the feature importance again.  I want to look at all the features again and then make a graph to see the most important."
   ]
  },
  {
   "cell_type": "code",
   "execution_count": 57,
   "metadata": {},
   "outputs": [
    {
     "name": "stdout",
     "output_type": "stream",
     "text": [
      "Feature: 0, Score: 0.38485\n",
      "Feature: 1, Score: 0.29475\n",
      "Feature: 2, Score: 0.00000\n",
      "Feature: 3, Score: 0.00000\n",
      "Feature: 4, Score: 0.00000\n",
      "Feature: 5, Score: 0.00000\n",
      "Feature: 6, Score: 0.00000\n",
      "Feature: 7, Score: 0.00000\n",
      "Feature: 8, Score: 0.00000\n",
      "Feature: 9, Score: 0.00000\n",
      "Feature: 10, Score: 0.00000\n",
      "Feature: 11, Score: 0.00000\n",
      "Feature: 12, Score: 0.00442\n",
      "Feature: 13, Score: 0.00000\n",
      "Feature: 14, Score: 0.00000\n",
      "Feature: 15, Score: 0.00000\n",
      "Feature: 16, Score: 0.00000\n",
      "Feature: 17, Score: 0.00000\n",
      "Feature: 18, Score: 0.00000\n",
      "Feature: 19, Score: 0.00000\n",
      "Feature: 20, Score: 0.00000\n",
      "Feature: 21, Score: 0.00000\n",
      "Feature: 22, Score: 0.00000\n",
      "Feature: 23, Score: 0.00000\n",
      "Feature: 24, Score: 0.00000\n",
      "Feature: 25, Score: 0.00000\n",
      "Feature: 26, Score: 0.00000\n",
      "Feature: 27, Score: 0.00000\n",
      "Feature: 28, Score: 0.00000\n",
      "Feature: 29, Score: 0.00000\n",
      "Feature: 30, Score: 0.00000\n",
      "Feature: 31, Score: 0.00000\n",
      "Feature: 32, Score: 0.00000\n",
      "Feature: 33, Score: 0.00000\n",
      "Feature: 34, Score: 0.00000\n",
      "Feature: 35, Score: 0.00000\n",
      "Feature: 36, Score: 0.00000\n",
      "Feature: 37, Score: 0.00000\n",
      "Feature: 38, Score: 0.00000\n",
      "Feature: 39, Score: 0.00000\n",
      "Feature: 40, Score: 0.00000\n",
      "Feature: 41, Score: 0.00000\n",
      "Feature: 42, Score: 0.00000\n",
      "Feature: 43, Score: 0.00000\n",
      "Feature: 44, Score: 0.03864\n",
      "Feature: 45, Score: 0.00000\n",
      "Feature: 46, Score: 0.00000\n",
      "Feature: 47, Score: 0.00552\n",
      "Feature: 48, Score: 0.00000\n",
      "Feature: 49, Score: 0.00000\n",
      "Feature: 50, Score: 0.00000\n",
      "Feature: 51, Score: 0.00000\n",
      "Feature: 52, Score: 0.00000\n",
      "Feature: 53, Score: 0.01082\n",
      "Feature: 54, Score: 0.26100\n",
      "Feature: 55, Score: 0.00000\n",
      "Feature: 56, Score: 0.00000\n",
      "Feature: 57, Score: 0.00000\n",
      "Feature: 58, Score: 0.00000\n",
      "Feature: 59, Score: 0.00000\n",
      "Feature: 60, Score: 0.00000\n",
      "Feature: 61, Score: 0.00000\n",
      "Feature: 62, Score: 0.00000\n",
      "Feature: 63, Score: 0.00000\n",
      "Feature: 64, Score: 0.00000\n",
      "Feature: 65, Score: 0.00000\n",
      "Feature: 66, Score: 0.00000\n",
      "Feature: 67, Score: 0.00000\n",
      "Feature: 68, Score: 0.00000\n",
      "Feature: 69, Score: 0.00000\n",
      "Feature: 70, Score: 0.00000\n",
      "Feature: 71, Score: 0.00000\n",
      "Feature: 72, Score: 0.00000\n",
      "Feature: 73, Score: 0.00000\n",
      "Feature: 74, Score: 0.00000\n",
      "Feature: 75, Score: 0.00000\n",
      "Feature: 76, Score: 0.00000\n",
      "Feature: 77, Score: 0.00000\n",
      "Feature: 78, Score: 0.00000\n",
      "Feature: 79, Score: 0.00000\n",
      "Feature: 80, Score: 0.00000\n",
      "Feature: 81, Score: 0.00000\n",
      "Feature: 82, Score: 0.00000\n",
      "Feature: 83, Score: 0.00000\n",
      "Feature: 84, Score: 0.00000\n",
      "Feature: 85, Score: 0.00000\n",
      "Feature: 86, Score: 0.00000\n",
      "Feature: 87, Score: 0.00000\n",
      "Feature: 88, Score: 0.00000\n",
      "Feature: 89, Score: 0.00000\n",
      "Feature: 90, Score: 0.00000\n",
      "Feature: 91, Score: 0.00000\n",
      "Feature: 92, Score: 0.00000\n",
      "Feature: 93, Score: 0.00000\n",
      "Feature: 94, Score: 0.00000\n",
      "Feature: 95, Score: 0.00000\n",
      "Feature: 96, Score: 0.00000\n",
      "Feature: 97, Score: 0.00000\n",
      "Feature: 98, Score: 0.00000\n",
      "Feature: 99, Score: 0.00000\n",
      "Feature: 100, Score: 0.00000\n",
      "Feature: 101, Score: 0.00000\n",
      "Feature: 102, Score: 0.00000\n",
      "Feature: 103, Score: 0.00000\n",
      "Feature: 104, Score: 0.00000\n",
      "Feature: 105, Score: 0.00000\n",
      "Feature: 106, Score: 0.00000\n",
      "Feature: 107, Score: 0.00000\n",
      "Feature: 108, Score: 0.00000\n",
      "Feature: 109, Score: 0.00000\n",
      "Feature: 110, Score: 0.00000\n",
      "Feature: 111, Score: 0.00000\n",
      "Feature: 112, Score: 0.00000\n",
      "Feature: 113, Score: 0.00000\n",
      "Feature: 114, Score: 0.00000\n",
      "Feature: 115, Score: 0.00000\n",
      "Feature: 116, Score: 0.00000\n",
      "Feature: 117, Score: 0.00000\n"
     ]
    }
   ],
   "source": [
    "importance_ab = modelada.feature_importances_\n",
    "for i,v in enumerate(importance_ab):\n",
    "    print('Feature: %0d, Score: %.5f' % (i,v))"
   ]
  },
  {
   "cell_type": "markdown",
   "metadata": {},
   "source": [
    "I should have realized that this modeling technique eliminates the less important features, so there are a lot of zeroes.  I will graph to see what the most important features are."
   ]
  },
  {
   "cell_type": "code",
   "execution_count": 61,
   "metadata": {
    "scrolled": true
   },
   "outputs": [
    {
     "data": {
      "text/plain": [
       "<matplotlib.axes._subplots.AxesSubplot at 0x1f0347b7f10>"
      ]
     },
     "execution_count": 61,
     "metadata": {},
     "output_type": "execute_result"
    },
    {
     "data": {
      "image/png": "[encoded data removed]",
      "text/plain": [
       "<Figure size 432x288 with 1 Axes>"
      ]
     },
     "metadata": {
      "needs_background": "light"
     },
     "output_type": "display_data"
    }
   ],
   "source": [
    "feat_importances_ab = pd.Series(modelada.feature_importances_, index=X_train.columns)\n",
    "feat_importances_ab.nlargest(8).plot(kind='barh')"
   ]
  },
  {
   "cell_type": "markdown",
   "metadata": {},
   "source": [
    "Odometer and year are not surprising, but I thought it was interesting that being front wheel drive is close to mileage, and those three factors make up over 95% of the predicting. Cylinders is the next most important, with a little importance also being given to if the vehicle is a ferrari.  I am curious if the unknown type of drive is a factor because there are so many."
   ]
  },
  {
   "cell_type": "code",
   "execution_count": 78,
   "metadata": {},
   "outputs": [
    {
     "data": {
      "text/plain": [
       "fwd        59536\n",
       "4wd        59343\n",
       "Unknown    41463\n",
       "rwd        23172\n",
       "Name: drive, dtype: int64"
      ]
     },
     "execution_count": 78,
     "metadata": {},
     "output_type": "execute_result"
    }
   ],
   "source": [
    "cars['drive'].value_counts()"
   ]
  },
  {
   "cell_type": "markdown",
   "metadata": {},
   "source": [
    "It is a large amount, but not overwhelming. The only factor that is not accounted for is all wheel drive.  That actually might be important, however it is impossible to tell which one of these unknown values actually represent all wheel drive.  I would predict that it could be a large amount."
   ]
  },
  {
   "cell_type": "markdown",
   "metadata": {},
   "source": [
    "I will calculate rmse, mae, and adjusted r squared as before. I will come back to this information after I ran all of my models to compare."
   ]
  },
  {
   "cell_type": "code",
   "execution_count": 17,
   "metadata": {},
   "outputs": [
    {
     "data": {
      "text/plain": [
       "9372.27901803016"
      ]
     },
     "execution_count": 17,
     "metadata": {},
     "output_type": "execute_result"
    }
   ],
   "source": [
    "ab_rmse = sqrt(mean_squared_error(y_test,y_pred_ab))\n",
    "ab_rmse"
   ]
  },
  {
   "cell_type": "code",
   "execution_count": 18,
   "metadata": {},
   "outputs": [
    {
     "data": {
      "text/plain": [
       "6517.008656546293"
      ]
     },
     "execution_count": 18,
     "metadata": {},
     "output_type": "execute_result"
    }
   ],
   "source": [
    "ab_mae = mean_absolute_error(y_test,y_pred_ab)\n",
    "ab_mae"
   ]
  },
  {
   "cell_type": "code",
   "execution_count": 19,
   "metadata": {},
   "outputs": [
    {
     "data": {
      "text/plain": [
       "0.4630731954839079"
      ]
     },
     "execution_count": 19,
     "metadata": {},
     "output_type": "execute_result"
    }
   ],
   "source": [
    "ab_rsq = r2_score(y_test,y_pred_ab)\n",
    "ab_rsq"
   ]
  },
  {
   "cell_type": "code",
   "execution_count": 20,
   "metadata": {},
   "outputs": [
    {
     "data": {
      "text/plain": [
       "0.4629854065613783"
      ]
     },
     "execution_count": 20,
     "metadata": {},
     "output_type": "execute_result"
    }
   ],
   "source": [
    "ab_adjrsq = (1-(1-ab_rsq)*((len(X_test)-1)/(len(X_test)-9-1)))\n",
    "ab_adjrsq"
   ]
  },
  {
   "cell_type": "markdown",
   "metadata": {},
   "source": [
    "The final model that I will use is Gradient Boosting<br>\n",
    "The three hyperparameters that I will focus on are:<br>\n",
    "n_estimators - the number of boosting stages to perform<br>\n",
    "learning_rate - shrinks the contribution of each tree by learning_rate<br>\n",
    "max_depth - maximum depth of the individual regression estimators\n",
    "\n",
    "I will follow the same procedure as with the previous models."
   ]
  },
  {
   "cell_type": "code",
   "execution_count": 21,
   "metadata": {},
   "outputs": [
    {
     "name": "stderr",
     "output_type": "stream",
     "text": [
      "C:\\Users\\Jonathan\\anaconda3\\lib\\site-packages\\sklearn\\utils\\validation.py:73: DataConversionWarning: A column-vector y was passed when a 1d array was expected. Please change the shape of y to (n_samples, ), for example using ravel().\n",
      "  return f(**kwargs)\n"
     ]
    },
    {
     "data": {
      "text/plain": [
       "GridSearchCV(cv=3, estimator=GradientBoostingRegressor(), n_jobs=-1,\n",
       "             param_grid={'learning_rate': [0.1, 0.25, 0.5],\n",
       "                         'max_depth': [6, 8, 10],\n",
       "                         'n_estimators': [150, 200, 250]})"
      ]
     },
     "execution_count": 21,
     "metadata": {},
     "output_type": "execute_result"
    }
   ],
   "source": [
    "gb = GradientBoostingRegressor()\n",
    "param_gb = {\n",
    "    'n_estimators':[150,200,250],\n",
    "    'learning_rate':[0.1,0.25,0.5],\n",
    "    'max_depth':[6,8,10]\n",
    "}\n",
    "gsg = GridSearchCV(gb, param_gb, cv=3, n_jobs=-1)\n",
    "gsg.fit(X_train,y_train)"
   ]
  },
  {
   "cell_type": "code",
   "execution_count": 22,
   "metadata": {},
   "outputs": [
    {
     "data": {
      "text/plain": [
       "{'learning_rate': 0.25, 'max_depth': 10, 'n_estimators': 250}"
      ]
     },
     "execution_count": 22,
     "metadata": {},
     "output_type": "execute_result"
    }
   ],
   "source": [
    "gsg.best_params_"
   ]
  },
  {
   "cell_type": "markdown",
   "metadata": {},
   "source": [
    "From the options I gave, the model determined that the best hyperparameters are a learning rate of 0.1, a max depth of 6, and 200 estimators.  I will now use these to fit and train my model, also timing to see how long it takes to predict on new models."
   ]
  },
  {
   "cell_type": "code",
   "execution_count": 32,
   "metadata": {},
   "outputs": [
    {
     "name": "stderr",
     "output_type": "stream",
     "text": [
      "C:\\Users\\Jonathan\\anaconda3\\lib\\site-packages\\sklearn\\utils\\validation.py:73: DataConversionWarning: A column-vector y was passed when a 1d array was expected. Please change the shape of y to (n_samples, ), for example using ravel().\n",
      "  return f(**kwargs)\n"
     ]
    },
    {
     "data": {
      "text/plain": [
       "0.9644227027893066"
      ]
     },
     "execution_count": 32,
     "metadata": {},
     "output_type": "execute_result"
    }
   ],
   "source": [
    "gbr = GradientBoostingRegressor(learning_rate=0.25,max_depth=10,n_estimators=250)\n",
    "model_gb = gbr.fit(X_train,y_train)\n",
    "startgb = time.time()\n",
    "y_pred_gb = model_gb.predict(X_test)\n",
    "endgb = time.time()\n",
    "gb_pred_time = (endgb - startgb)\n",
    "gb_pred_time"
   ]
  },
  {
   "cell_type": "code",
   "execution_count": 79,
   "metadata": {},
   "outputs": [
    {
     "data": {
      "text/plain": [
       "0.0017517440791741108"
      ]
     },
     "execution_count": 79,
     "metadata": {},
     "output_type": "execute_result"
    }
   ],
   "source": [
    "gb_time = gb_pred_time/len(X_test)*100\n",
    "gb_time"
   ]
  },
  {
   "cell_type": "markdown",
   "metadata": {},
   "source": [
    "The time taken was 0.0018 seconds.  I will look at feature importance."
   ]
  },
  {
   "cell_type": "code",
   "execution_count": 55,
   "metadata": {},
   "outputs": [
    {
     "name": "stdout",
     "output_type": "stream",
     "text": [
      "Feature: 0, Score: 0.35090\n",
      "Feature: 1, Score: 0.14714\n",
      "Feature: 2, Score: 0.00009\n",
      "Feature: 3, Score: 0.00091\n",
      "Feature: 4, Score: 0.00310\n",
      "Feature: 5, Score: 0.00286\n",
      "Feature: 6, Score: 0.00051\n",
      "Feature: 7, Score: 0.00482\n",
      "Feature: 8, Score: 0.00639\n",
      "Feature: 9, Score: 0.00080\n",
      "Feature: 10, Score: 0.00006\n",
      "Feature: 11, Score: 0.00324\n",
      "Feature: 12, Score: 0.00675\n",
      "Feature: 13, Score: 0.00031\n",
      "Feature: 14, Score: 0.01249\n",
      "Feature: 15, Score: 0.00815\n",
      "Feature: 16, Score: 0.00019\n",
      "Feature: 17, Score: 0.00207\n",
      "Feature: 18, Score: 0.00287\n",
      "Feature: 19, Score: 0.00057\n",
      "Feature: 20, Score: 0.00128\n",
      "Feature: 21, Score: 0.00560\n",
      "Feature: 22, Score: 0.00203\n",
      "Feature: 23, Score: 0.00003\n",
      "Feature: 24, Score: 0.00167\n",
      "Feature: 25, Score: 0.00092\n",
      "Feature: 26, Score: 0.00040\n",
      "Feature: 27, Score: 0.00826\n",
      "Feature: 28, Score: 0.00056\n",
      "Feature: 29, Score: 0.00018\n",
      "Feature: 30, Score: 0.00248\n",
      "Feature: 31, Score: 0.00611\n",
      "Feature: 32, Score: 0.00019\n",
      "Feature: 33, Score: 0.00012\n",
      "Feature: 34, Score: 0.01362\n",
      "Feature: 35, Score: 0.00218\n",
      "Feature: 36, Score: 0.00003\n",
      "Feature: 37, Score: 0.00243\n",
      "Feature: 38, Score: 0.00427\n",
      "Feature: 39, Score: 0.00382\n",
      "Feature: 40, Score: 0.00124\n",
      "Feature: 41, Score: 0.00065\n",
      "Feature: 42, Score: 0.00059\n",
      "Feature: 43, Score: 0.00024\n",
      "Feature: 44, Score: 0.03767\n",
      "Feature: 45, Score: 0.00006\n",
      "Feature: 46, Score: 0.01407\n",
      "Feature: 47, Score: 0.03797\n",
      "Feature: 48, Score: 0.00997\n",
      "Feature: 49, Score: 0.00040\n",
      "Feature: 50, Score: 0.00339\n",
      "Feature: 51, Score: 0.00201\n",
      "Feature: 52, Score: 0.00333\n",
      "Feature: 53, Score: 0.03890\n",
      "Feature: 54, Score: 0.13406\n",
      "Feature: 55, Score: 0.01384\n",
      "Feature: 56, Score: 0.00515\n",
      "Feature: 57, Score: 0.00208\n",
      "Feature: 58, Score: 0.00026\n",
      "Feature: 59, Score: 0.00124\n",
      "Feature: 60, Score: 0.00057\n",
      "Feature: 61, Score: 0.00208\n",
      "Feature: 62, Score: 0.00060\n",
      "Feature: 63, Score: 0.00079\n",
      "Feature: 64, Score: 0.00335\n",
      "Feature: 65, Score: 0.00243\n",
      "Feature: 66, Score: 0.00647\n",
      "Feature: 67, Score: 0.00040\n",
      "Feature: 68, Score: 0.00041\n",
      "Feature: 69, Score: 0.00015\n",
      "Feature: 70, Score: 0.00430\n",
      "Feature: 71, Score: 0.00360\n",
      "Feature: 72, Score: 0.00090\n",
      "Feature: 73, Score: 0.00043\n",
      "Feature: 74, Score: 0.00026\n",
      "Feature: 75, Score: 0.00006\n",
      "Feature: 76, Score: 0.00199\n",
      "Feature: 77, Score: 0.00023\n",
      "Feature: 78, Score: 0.00091\n",
      "Feature: 79, Score: 0.00085\n",
      "Feature: 80, Score: 0.00280\n",
      "Feature: 81, Score: 0.00053\n",
      "Feature: 82, Score: 0.00069\n",
      "Feature: 83, Score: 0.00041\n",
      "Feature: 84, Score: 0.00031\n",
      "Feature: 85, Score: 0.00063\n",
      "Feature: 86, Score: 0.00059\n",
      "Feature: 87, Score: 0.00040\n",
      "Feature: 88, Score: 0.00035\n",
      "Feature: 89, Score: 0.00343\n",
      "Feature: 90, Score: 0.00063\n",
      "Feature: 91, Score: 0.00053\n",
      "Feature: 92, Score: 0.00005\n",
      "Feature: 93, Score: 0.00266\n",
      "Feature: 94, Score: 0.00135\n",
      "Feature: 95, Score: 0.00007\n",
      "Feature: 96, Score: 0.00012\n",
      "Feature: 97, Score: 0.00042\n",
      "Feature: 98, Score: 0.00102\n",
      "Feature: 99, Score: 0.00115\n",
      "Feature: 100, Score: 0.00095\n",
      "Feature: 101, Score: 0.00150\n",
      "Feature: 102, Score: 0.00155\n",
      "Feature: 103, Score: 0.00054\n",
      "Feature: 104, Score: 0.00935\n",
      "Feature: 105, Score: 0.00639\n",
      "Feature: 106, Score: 0.00017\n",
      "Feature: 107, Score: 0.00059\n",
      "Feature: 108, Score: 0.00044\n",
      "Feature: 109, Score: 0.00128\n",
      "Feature: 110, Score: 0.00221\n",
      "Feature: 111, Score: 0.00036\n",
      "Feature: 112, Score: 0.00043\n",
      "Feature: 113, Score: 0.00059\n",
      "Feature: 114, Score: 0.00661\n",
      "Feature: 115, Score: 0.00044\n",
      "Feature: 116, Score: 0.00007\n",
      "Feature: 117, Score: 0.00007\n"
     ]
    }
   ],
   "source": [
    "importance_gb = model_gb.feature_importances_\n",
    "for i,v in enumerate(importance_gb):\n",
    "    print('Feature: %0d, Score: %.5f' % (i,v))"
   ]
  },
  {
   "cell_type": "code",
   "execution_count": 56,
   "metadata": {},
   "outputs": [
    {
     "data": {
      "text/plain": [
       "<matplotlib.axes._subplots.AxesSubplot at 0x1f0345d9cd0>"
      ]
     },
     "execution_count": 56,
     "metadata": {},
     "output_type": "execute_result"
    },
    {
     "data": {
      "image/png": "[encoded data removed]",
      "text/plain": [
       "<Figure size 432x288 with 1 Axes>"
      ]
     },
     "metadata": {
      "needs_background": "light"
     },
     "output_type": "display_data"
    }
   ],
   "source": [
    "feat_importances_gb = pd.Series(model_gb.feature_importances_, index=X_train.columns)\n",
    "feat_importances_gb.nlargest(15).plot(kind='barh')"
   ]
  },
  {
   "cell_type": "markdown",
   "metadata": {},
   "source": [
    "The general order of everything was similar to the others, with the same top three in order.  However, year was a much bigger contributor to the model, making up over a third of the model feature importance.  Odometer and front wheel drive were the close, followed by cylinders.  Overall, year, mileage, drive, and number of cylinders played easily the most substantial factor in each model."
   ]
  },
  {
   "cell_type": "code",
   "execution_count": 33,
   "metadata": {},
   "outputs": [
    {
     "data": {
      "text/plain": [
       "5629.438763598316"
      ]
     },
     "execution_count": 33,
     "metadata": {},
     "output_type": "execute_result"
    }
   ],
   "source": [
    "gb_rmse = sqrt(mean_squared_error(y_test,y_pred_gb))\n",
    "gb_rmse"
   ]
  },
  {
   "cell_type": "code",
   "execution_count": 34,
   "metadata": {},
   "outputs": [
    {
     "data": {
      "text/plain": [
       "2821.281130815781"
      ]
     },
     "execution_count": 34,
     "metadata": {},
     "output_type": "execute_result"
    }
   ],
   "source": [
    "gb_mae = mean_absolute_error(y_test,y_pred_gb)\n",
    "rand_for_mae"
   ]
  },
  {
   "cell_type": "code",
   "execution_count": 35,
   "metadata": {},
   "outputs": [
    {
     "data": {
      "text/plain": [
       "0.8062887402933393"
      ]
     },
     "execution_count": 35,
     "metadata": {},
     "output_type": "execute_result"
    }
   ],
   "source": [
    "gb_rsq = r2_score(y_test,y_pred_gb)\n",
    "gb_rsq"
   ]
  },
  {
   "cell_type": "code",
   "execution_count": 36,
   "metadata": {},
   "outputs": [
    {
     "data": {
      "text/plain": [
       "0.8062570680008994"
      ]
     },
     "execution_count": 36,
     "metadata": {},
     "output_type": "execute_result"
    }
   ],
   "source": [
    "gb_adjrsq = (1-(1-gb_rsq)*((len(X_test)-1)/(len(X_test)-9-1)))\n",
    "gb_adjrsq"
   ]
  },
  {
   "cell_type": "markdown",
   "metadata": {},
   "source": [
    "It is now time to compare my results.  There were not many data points that we were using, but it is still nice to see them graphically.  The first thing I will compare is the time it took for each model to make a prediction.  This could be an important factor if companies are wanting fast results."
   ]
  },
  {
   "cell_type": "code",
   "execution_count": 82,
   "metadata": {
    "scrolled": true
   },
   "outputs": [
    {
     "data": {
      "image/png": "[encoded data removed]",
      "text/plain": [
       "<Figure size 432x288 with 1 Axes>"
      ]
     },
     "metadata": {
      "needs_background": "light"
     },
     "output_type": "display_data"
    }
   ],
   "source": [
    "all_times = [rf_time, ab_time, gb_time]\n",
    "labels = ['Random Forest', 'AdaBoost', 'Gradient Boosting']\n",
    "fig,ax = plt.subplots()\n",
    "time_bar = ax.bar(labels,all_times)\n",
    "ax.set_xlabel('Type of regressor')\n",
    "ax.set_ylabel('Time to predict in seconds')\n",
    "ax.set_title('Time of prediction for Each Model')\n",
    "plt.show()"
   ]
  },
  {
   "cell_type": "markdown",
   "metadata": {},
   "source": [
    "The time difference between random forest and the two boosting models was noticable, but it is important to take into account that these are few low times.  Unless the amount of data is extremely large, time would not play a big factor.\n",
    "\n",
    "Now we will compare the square root of the error of each model.  A lower score means that the predictions were closer to the actual values."
   ]
  },
  {
   "cell_type": "code",
   "execution_count": 83,
   "metadata": {},
   "outputs": [
    {
     "data": {
      "image/png": "[encoded data removed]",
      "text/plain": [
       "<Figure size 432x288 with 1 Axes>"
      ]
     },
     "metadata": {
      "needs_background": "light"
     },
     "output_type": "display_data"
    }
   ],
   "source": [
    "all_rmse = [rand_for_rmse, ab_rmse, gb_rmse]\n",
    "fig,ax = plt.subplots()\n",
    "rmse_bar = ax.bar(labels,all_rmse)\n",
    "ax.set_xlabel('Type of regressor')\n",
    "ax.set_ylabel('RMSE')\n",
    "ax.set_title('Root Mean Squared Error for Each Model')\n",
    "plt.show()"
   ]
  },
  {
   "cell_type": "markdown",
   "metadata": {},
   "source": [
    "While random forest took much longer to predict, it had the best results with the smallest RMSE.  Gradient boosting slightly had a higher RMSE, but AdaBoost was noticeably higher.  RMSE is usually considered the most important factors in determining regression model effectiveness, so AdaBoost is likely eliminated as the best model.\n",
    "\n",
    "The next graph we will look at mean absolute error, which also has a lower score being better."
   ]
  },
  {
   "cell_type": "code",
   "execution_count": 84,
   "metadata": {},
   "outputs": [
    {
     "data": {
      "image/png": "[encoded data removed]",
      "text/plain": [
       "<Figure size 432x288 with 1 Axes>"
      ]
     },
     "metadata": {
      "needs_background": "light"
     },
     "output_type": "display_data"
    }
   ],
   "source": [
    "all_mae = [rand_for_mae, ab_mae, gb_mae]\n",
    "fig,ax = plt.subplots()\n",
    "adjsqr_bar = ax.bar(labels,all_mae)\n",
    "ax.set_xlabel('Type of regressor')\n",
    "ax.set_ylabel('Mean Absolute Error')\n",
    "ax.set_title('Mean Absolute Error for Each Model')\n",
    "plt.show()"
   ]
  },
  {
   "cell_type": "markdown",
   "metadata": {},
   "source": [
    "Random forest had the best MAE score, with AdaBoost scoring the lowest.  This coincides fairly well with the RMSE.\n",
    "\n",
    "The final graph that we will use for prediction is adjusted r squared, which generally is better at scoring at r squared because it takes into account the number of variables used.  Unlike RMSE and MAE, a higher score is considered better."
   ]
  },
  {
   "cell_type": "code",
   "execution_count": 41,
   "metadata": {},
   "outputs": [
    {
     "data": {
      "image/png": "[encoded data removed]",
      "text/plain": [
       "<Figure size 432x288 with 1 Axes>"
      ]
     },
     "metadata": {
      "needs_background": "light"
     },
     "output_type": "display_data"
    }
   ],
   "source": [
    "all_mae = [rand_for_adjrsq, ab_adjrsq, gb_adjrsq]\n",
    "fig,ax = plt.subplots()\n",
    "adjsqr_bar = ax.bar(labels,all_mae)\n",
    "ax.set_xlabel('Type of regressor')\n",
    "ax.set_ylabel('Adjusted R Squared')\n",
    "ax.set_title('Adjusted R Squared for Each Model')\n",
    "plt.show()"
   ]
  },
  {
   "cell_type": "code",
   "execution_count": 86,
   "metadata": {},
   "outputs": [
    {
     "name": "stdout",
     "output_type": "stream",
     "text": [
      "0.8294034743837585 0.8062570680008994\n"
     ]
    }
   ],
   "source": [
    "print(rand_for_adjrsq, gb_adjrsq)"
   ]
  },
  {
   "cell_type": "markdown",
   "metadata": {},
   "source": [
    "Once again random forest scored the best, followed closely by gradient boosting.  It was so close that I wanted to look at the scores again.  AdaBoost was a much lower score, and taking into account that its time was worse than gradient boosting, so for this project, it can be eliminated as the best option."
   ]
  },
  {
   "cell_type": "markdown",
   "metadata": {},
   "source": [
    "The final question comes down to what model was the best performer for predicting vehicle price based on the variables given.  If I did not take into account time taken to make a prediction, Random Forest scored the best each time, but it was generally very close to gradient boosting.  However, when taking into account time, it took a more time, which could be a factor for large amounts of data.  This comes down to what is more important, accuracy or time?\n",
    "\n",
    "Since this model is based on car predictions, and they are typically large investments, I am deciding that the less error is the most important factor in determining what model should go with price.  Therefore, Random Forest with the hyperparameters given is the best model.\n",
    "\n",
    "I would note that random forest and gradient boosting are close enough that it could be worth testing out a wider variety of hyperparameters of each, if time permitted."
   ]
  },
  {
   "cell_type": "code",
   "execution_count": null,
   "metadata": {},
   "outputs": [],
   "source": []
  }
 ],
 "metadata": {
  "kernelspec": {
   "display_name": "Python 3",
   "language": "python",
   "name": "python3"
  },
  "language_info": {
   "codemirror_mode": {
    "name": "ipython",
    "version": 3
   },
   "file_extension": ".py",
   "mimetype": "text/x-python",
   "name": "python",
   "nbconvert_exporter": "python",
   "pygments_lexer": "ipython3",
   "version": "3.8.3"
  }
 },
 "nbformat": 4,
 "nbformat_minor": 4
}
